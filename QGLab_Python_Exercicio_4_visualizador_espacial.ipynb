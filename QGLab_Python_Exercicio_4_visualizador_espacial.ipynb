{
  "cells": [
    {
      "cell_type": "markdown",
      "source": [
        "**LER, ENTENDER E EXPLICAR O QUE O CÓDIGO ESTÁ FAZENDO EM CADA LINHA/BLOCO**"
      ],
      "metadata": {
        "id": "SPm0iRVqRxEx"
      }
    },
    {
      "cell_type": "code",
      "source": [
        "# Acessar o drive\n",
        "\n",
        "from google.colab import drive\n",
        "drive.mount('/content/drive')"
      ],
      "metadata": {
        "id": "hLD9N6ejVAUc"
      },
      "execution_count": null,
      "outputs": []
    },
    {
      "cell_type": "code",
      "execution_count": null,
      "metadata": {
        "id": "2Z9YLl9fPF05"
      },
      "outputs": [],
      "source": [
        "  # Após executar essa célula a primeira vez, aparecerá uma mensagem de Reiniciar Sessão.\n",
        "  # Então execute novamente a célula.\n",
        "\n",
        "  !pip install \"leafmap[maplibre]\""
      ]
    },
    {
      "cell_type": "code",
      "execution_count": null,
      "metadata": {
        "id": "hR4P3FBkPPM_"
      },
      "outputs": [],
      "source": [
        "import leafmap.maplibregl as leafmap\n",
        "import matplotlib.pyplot as plt"
      ]
    },
    {
      "cell_type": "markdown",
      "metadata": {
        "id": "Ibjo5SzMQTyU"
      },
      "source": [
        "MapTiler = op2B08D55WVEFrLw5OM7"
      ]
    },
    {
      "cell_type": "code",
      "execution_count": null,
      "metadata": {
        "id": "6TIJunoyQUUa"
      },
      "outputs": [],
      "source": [
        "import os\n",
        "os.environ[\"MAPTILER_KEY\"] = \"op2B08D55WVEFrLw5OM7\""
      ]
    },
    {
      "cell_type": "code",
      "execution_count": null,
      "metadata": {
        "id": "fhn6cHMAQkvK"
      },
      "outputs": [],
      "source": [
        "# EXECUTE A CÉLULA\n",
        "\n",
        "# NÃO MEXA EM NADA NESTA CÉLULA, A NÃO SER QUE SAIBA EXATAMENTE O QUE ESTÁ FAZENDO\n",
        "\n",
        "style = {\n",
        "    \"version\": 8,\n",
        "    \"sources\": {\n",
        "        \"osm\": {\n",
        "            \"type\": \"raster\",\n",
        "            \"tiles\": [\"https://a.tile.openstreetmap.org/{z}/{x}/{y}.png\"],\n",
        "            \"tileSize\": 256,\n",
        "            \"attribution\": \"© OpenStreetMap Contributors\",\n",
        "            \"maxzoom\": 19,\n",
        "        },\n",
        "        \"terrainSource\": {\n",
        "            \"type\": \"raster-dem\",\n",
        "            \"url\": \"https://demotiles.maplibre.org/terrain-tiles/tiles.json\",\n",
        "            \"tileSize\": 256,\n",
        "        },\n",
        "        \"hillshadeSource\": {\n",
        "            \"type\": \"raster-dem\",\n",
        "            \"url\": \"https://demotiles.maplibre.org/terrain-tiles/tiles.json\",\n",
        "            \"tileSize\": 256,\n",
        "        },\n",
        "    },\n",
        "    \"layers\": [\n",
        "        {\"id\": \"osm\", \"type\": \"raster\", \"source\": \"osm\"},\n",
        "        {\n",
        "            \"id\": \"hills\",\n",
        "            \"type\": \"hillshade\",\n",
        "            \"source\": \"hillshadeSource\",\n",
        "            \"layout\": {\"visibility\": \"visible\"},\n",
        "            \"paint\": {\"hillshade-shadow-color\": \"#473B24\"},\n",
        "        },\n",
        "    ],\n",
        "    \"terrain\": {\"source\": \"terrainSource\", \"exaggeration\": 1.5},\n",
        "}"
      ]
    },
    {
      "cell_type": "code",
      "execution_count": null,
      "metadata": {
        "id": "Mcg003t5aEt6"
      },
      "outputs": [],
      "source": [
        "# style=  '3d-hybrid', '3d-topo', '3d-terrain', '3d-satellite'\n",
        "\n",
        "# # aqui o código está usando o 3d-hybrid (satellite + open street map)\n",
        "\n",
        "# Coord long e lat de São João Del Rei: [-44.20, -21.15]\n",
        "\n",
        "m = leafmap.Map(\n",
        "    center= [-44.20, -21.15], zoom=11, pitch=0, bearing=0, style='3d-hybrid', exaggeration=1.5, hillshade=False,\n",
        "    controls={'navigation': 'top-right', 'fullscreen': 'top-right', 'scale': 'bottom-right'})\n",
        "m.add_layer_control(bg_layers=True)\n",
        "m"
      ]
    },
    {
      "cell_type": "markdown",
      "source": [
        "#### EXEMPLOS TOP DE OUTRAS DUAS ÁREAS ####\n",
        "\n",
        "Vulcão Sta Helena: [-122.19861, 46.21168]\n",
        "\n",
        "Grand Canyon: [-111.96, 36.01]"
      ],
      "metadata": {
        "id": "eVvaVFJ1g4zD"
      }
    }
  ],
  "metadata": {
    "colab": {
      "provenance": []
    },
    "kernelspec": {
      "display_name": "Python 3",
      "name": "python3"
    },
    "language_info": {
      "name": "python"
    }
  },
  "nbformat": 4,
  "nbformat_minor": 0
}