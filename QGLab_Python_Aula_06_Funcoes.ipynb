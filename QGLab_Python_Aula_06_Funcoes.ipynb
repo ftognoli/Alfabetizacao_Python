{
  "nbformat": 4,
  "nbformat_minor": 0,
  "metadata": {
    "colab": {
      "provenance": []
    },
    "kernelspec": {
      "name": "python3",
      "display_name": "Python 3"
    }
  },
  "cells": [
    {
      "cell_type": "code",
      "source": [
        "def imc(massa, altura):\n",
        "  return (massa / altura**2)\n",
        "\n",
        "imc (71, 1.76)\n",
        "print ('O imc de Fulano é: ' + str(imc(71, 1.76)))"
      ],
      "metadata": {
        "colab": {
          "base_uri": "https://localhost:8080/"
        },
        "id": "bV2Lzqr06CKt",
        "outputId": "05cd41c7-b7dc-46a2-ce2e-24233e214288"
      },
      "execution_count": null,
      "outputs": [
        {
          "output_type": "stream",
          "name": "stdout",
          "text": [
            "O imc de Fulano é: 22.920971074380166\n"
          ]
        }
      ]
    },
    {
      "cell_type": "markdown",
      "source": [
        "se usar varios \"if\", vai dar errado, ele acaba jogando todos que funcionam no if. Elif faz um sistema de verificação com exclusão, sendo necessário quando há mais de duas formas. Else é para o final (mas não precisa)"
      ],
      "metadata": {
        "id": "duNVnyM6Vlgh"
      }
    },
    {
      "cell_type": "code",
      "source": [
        "massa = 76\n",
        "altura = 1.76\n",
        "valor_imc = imc(massa, altura)\n",
        "\n",
        "def imc (massa, altura):\n",
        "  return massa / altura**2\n",
        "\n",
        "def calcular_imc(nome, massa, altura):\n",
        "  calcular_imc('Bernardo', massa, altura)\n",
        "print('O imc de Bernardo é: ' + str(valor_imc))\n",
        "\n",
        "if valor_imc >= 30.0:\n",
        "  print ('Você está obeso')\n",
        "elif valor_imc >= 25.0:\n",
        "    print ('Você está com sobrepeso')\n",
        "elif valor_imc >= 18.5:\n",
        "      print ('Você está com o peso normal')\n",
        "else:\n",
        "  print ('Você está abaixo do peso ideal')"
      ],
      "metadata": {
        "colab": {
          "base_uri": "https://localhost:8080/"
        },
        "id": "l5u_593Ucqhw",
        "outputId": "05620f05-e54a-43b1-d7dc-2600420e26c5"
      },
      "execution_count": null,
      "outputs": [
        {
          "output_type": "stream",
          "name": "stdout",
          "text": [
            "O imc de Bernardo é: 24.535123966942148\n",
            "Você está com o peso normal\n"
          ]
        }
      ]
    },
    {
      "cell_type": "code",
      "source": [
        "massa = 86\n",
        "altura = 1.76\n",
        "valor_imc = imc(massa, altura)\n",
        "\n",
        "def imc (massa, altura):\n",
        "  return massa / altura**2\n",
        "\n",
        "def calcular_imc(nome, massa, altura):\n",
        "  calcular_imc('Fulano', massa, altura)\n",
        "print('O imc de Fulano é: ' + str(valor_imc))\n",
        "\n",
        "if valor_imc >= 30.0:\n",
        "  print ('Você está obeso')\n",
        "if valor_imc >= 25.0:\n",
        "    print ('Você está com sobrepeso')\n",
        "if valor_imc >= 18.5:\n",
        "      print ('Você está com o peso normal')\n",
        "else:\n",
        "  print ('Você está abaixo do peso ideal')"
      ],
      "metadata": {
        "colab": {
          "base_uri": "https://localhost:8080/"
        },
        "id": "dYotbNuL5uCq",
        "outputId": "ee102338-3579-43bd-ef3a-0bd5b838e6b5"
      },
      "execution_count": null,
      "outputs": [
        {
          "output_type": "stream",
          "name": "stdout",
          "text": [
            "O imc de Fulano é: 27.763429752066116\n",
            "Você está com sobrepeso\n",
            "Você está com o peso normal\n"
          ]
        }
      ]
    },
    {
      "cell_type": "code",
      "source": [
        "def say_hello():\n",
        "  print('Hello Alice')\n",
        "  print('Goodbye Bob')\n",
        "\n",
        "say_hello()"
      ],
      "metadata": {
        "colab": {
          "base_uri": "https://localhost:8080/"
        },
        "id": "Q13n-CyosyzH",
        "outputId": "68e2f341-011a-4907-ae4c-26cb651ae73e"
      },
      "execution_count": null,
      "outputs": [
        {
          "output_type": "stream",
          "name": "stdout",
          "text": [
            "Hello Alice\n",
            "Goodbye Bob\n"
          ]
        }
      ]
    },
    {
      "cell_type": "code",
      "source": [
        "def say_hello(name='fulano'):    # tirando o name='stranger'e deixando os parênteses vazio, vai funcionar também.\n",
        "  print('Hello Alice')\n",
        "  print('Goodbye Bob')\n",
        "\n",
        "say_hello()"
      ],
      "metadata": {
        "colab": {
          "base_uri": "https://localhost:8080/"
        },
        "id": "IaZToJW2uwvM",
        "outputId": "2a9a7e60-1e3b-4d84-8a5a-f1c932a7a555"
      },
      "execution_count": null,
      "outputs": [
        {
          "output_type": "stream",
          "name": "stdout",
          "text": [
            "Hello Alice\n",
            "Goodbye Bob\n"
          ]
        }
      ]
    },
    {
      "cell_type": "markdown",
      "metadata": {
        "id": "E_yk5MrShxmJ"
      },
      "source": [
        "#Funções\n",
        "\n",
        "Alguns trechos de códigos precisam ser repetidos diversas vezes durante a execução de um programa, muitas vezes mudando somente alguns parâmetros entre uma execução e outra, como é o caso de um cálculo de distância, cálculo de imposto de renda, quantidades em receitas, entre outros. Uma maneira de se fazer isso é ir copiando o código e alterando seus valores, porém isso é trabalhoso, torna o código muito extenso, propenso a *bugs* e difícil realizar manutenções pois cada alteração necessita ser aplicada em todas as réplicas.\n",
        "\n",
        "Uma maneira melhor de se solucionar essas situações é fazendo uso de **funções**, que se tratam de blocos organizados e reutilizáveis de código, responsáveis por realizar uma ação e retornar um valor, provendo assim grande modularidade para o programa escrito. **De maneira bem simplificada, funções são como mini programas dentro de programas**.\n",
        "\n",
        "Já chegamos a ver algumas funções, como **`print`** e **`input`**, no decorrer das aulas, e como pode ser visto, os códigos presentes nelas só são executados quando essas funções são chamadas. Além das funções predefinidas do Python, nós podemos optar por criar nossas próprias funções.\n",
        "\n",
        "Traçando um paralelo entre as funções vistas na escola e funções do Python, temos o seguinte\n",
        "\n",
        "* Função matemática\n",
        "\n",
        "      f(x) = x²\n",
        "\n",
        "      f(1) = 1\n",
        "      f(2) = 4\n",
        "      f(-3) = 9\n",
        "\n",
        "* Função Python que faz a mesma coisa\n",
        "\n",
        "      def f(x):\n",
        "        return x**2\n",
        "\n",
        "      f(1) = 1\n",
        "      f(2) = 4\n",
        "      f(-3) = 9"
      ]
    },
    {
      "cell_type": "code",
      "source": [
        "x=2\n",
        "\n",
        "def f(a):\n",
        "  return x**2"
      ],
      "metadata": {
        "colab": {
          "base_uri": "https://localhost:8080/"
        },
        "id": "kWpIZPvX4D4i",
        "outputId": "5470e8c7-2066-4a9b-8bcf-0471d9d2d240"
      },
      "execution_count": null,
      "outputs": [
        {
          "output_type": "execute_result",
          "data": {
            "text/plain": [
              "9"
            ]
          },
          "metadata": {},
          "execution_count": 22
        }
      ]
    },
    {
      "cell_type": "code",
      "source": [
        "def f(x):\n",
        "  return x**(2)\n",
        "\n",
        "print (\"função f(2):\", f(2))\n",
        "print (\"função f(7):\", f(7))\n",
        "print (\"função f(9):\", f(9))\n",
        "print (\"função f(20):\", f(20))"
      ],
      "metadata": {
        "id": "yA2pwLO6PUFg"
      },
      "execution_count": null,
      "outputs": []
    },
    {
      "cell_type": "markdown",
      "metadata": {
        "id": "1APmaHC8LuHW"
      },
      "source": [
        "## Definição de funções\n",
        "\n",
        "O trecho a seguir mostra um código Python que cria uma função que simplesmente imprime na tela os parâmetros que recebe como entrada.\n",
        "\n",
        "    def minha_fun(parametros):\n",
        "      print('Parâmetros',parametros)\n",
        "      return\n",
        "\n",
        "A primeira linha do código é composta de 4 elementos:\n",
        "\n",
        "* **def**: é uma palavra reservada da linguagem, sinalizando a criação de uma função;\n",
        "* **minha_fun**: é o nome dado à função criada. A nomenclatura para nome de funções segue as mesmas regras dos nomes de variáveis;\n",
        "* **(parametros)**: são valores, objetos, variáveis ou até mesmo outras funções, que serão utilizados dentro da função que está sendo criada;\n",
        "* **:**: indica que o bloco subsequente é o corpo da função que está sendo criada, isto é, o código que será executado toda vez que a função for chamada;\n",
        "\n",
        "Após essa primeira linha que identifica o início da definição de uma função, vem o corpo da função, que no exemplo acima é responsável por imprimir os parâmetros recebidos.\n",
        "\n",
        "O corpo da função é o bloco de código escrito mais a direita das outras linhas de código. Essa característica de recuo em códigos é chamada **indentação, e em Python ela é obrigatória** para certas funcionalidades, sendo definição de funções uma delas. Essa indentação pode ser feita utilizando a tecla TAB ou adicionando espaços em branco, porém **não podemos misturar essas duas formas**. Geralmente um nível de indentação é representado por 4 espaços ou uma tabulação de tamanho equivalente, porém esse valor pode mudar de acordo com a linguagem ou padrão de código utilizado.\n",
        "\n",
        "Como pode ser visto, podemos chamar uma função dentro de outra função, como é o caso da chamada da função **`print`** nesse exemplo.\n",
        "\n",
        "Como última linha do exemplo temos somente a palavra **`return`**. Ela é a responsável por indicar o fim da função e retornar seu resultado, sendo que esse resultado pode ser um valor, uma variável, um objeto, entre outros. Apesar de sinalizar o fim da função, esse **`return`** **pode ser omitido** caso não se deseje retornar valores da função. Nesse caso, como não foi colocado nenhum valor depois do **`return`**, essa função retorna o valor **`None`**, do tipo *NoneType*"
      ]
    },
    {
      "cell_type": "code",
      "source": [
        "def minha_fun(parametros):\n",
        "  print('Parâmetros',parametros)\n",
        "return"
      ],
      "metadata": {
        "id": "nTVxqyax1JJL"
      },
      "execution_count": null,
      "outputs": []
    },
    {
      "cell_type": "code",
      "source": [
        "def funcao1(param):\n",
        "  print('Primeira função!')\n",
        "  print('Parâmetros:', param)\n",
        "\n",
        "  print(funcao1('Passando uma string!'))"
      ],
      "metadata": {
        "id": "C9f_ZXsLfO16"
      },
      "execution_count": null,
      "outputs": []
    },
    {
      "cell_type": "code",
      "source": [
        "def funcao1(param):\n",
        "  print('Primeira função!')\n",
        "  print('Parâmetros:', param)\n",
        "\n",
        "def funcao2(param):\n",
        "  print('Segunda função!')\n",
        "  print('Parâmetros:', param)\n",
        "\n",
        "def funcao3(param):\n",
        "  print('Terceira função!')\n",
        "  print('Parâmetros:', param)\n",
        "\n",
        "print('Retorno da primeira função:\\n\\t',funcao1('Passando uma string!'),'\\n')\n",
        "print('Retorno da segunda função:\\n\\t',funcao2(12345654321),'\\n')\n",
        "#print('Retorno da terceira função:\\n\\t',funcaoo3(77.8),'\\n')\n",
        "# Onde está Wally?"
      ],
      "metadata": {
        "colab": {
          "base_uri": "https://localhost:8080/"
        },
        "id": "bkg-YxTp1c30",
        "outputId": "4d682e01-eb95-43f1-d2d1-0ff06a7b181b"
      },
      "execution_count": null,
      "outputs": [
        {
          "output_type": "stream",
          "name": "stdout",
          "text": [
            "Primeira função!\n",
            "Parâmetros: Passando uma string!\n",
            "Retorno da primeira função:\n",
            "\t None \n",
            "\n",
            "Segunda função!\n",
            "Parâmetros: 12345654321\n",
            "Retorno da segunda função:\n",
            "\t None \n",
            "\n"
          ]
        }
      ]
    },
    {
      "cell_type": "markdown",
      "metadata": {
        "id": "UR48P_k42puL"
      },
      "source": [
        "A célula acima demonstra um comportamento interessante sobre o funcionamento das funções: quando uma função é passada como argumento para outra função, o que é passado na verdade é o resultado desta função-argumento, e portanto ela é executada primeiro.\n",
        "\n",
        "No exemplo mostrado, é possível ver que o programa é executado linearmente até encontrar a linha onde **`minha_fun`** é chamada. Essa chamada desvia a execução do programa para a função (que neste caso chama a função **`print`** para exibir os parâmetros recebidos). Depois de executada por inteiro, o fluxo de execução do programa volta de onde parou (a linha que chamou **`minha_fun`**) com o resultado da função chamada (neste caso como a função não tem retorno, o resultado é **`None`**), que será utilizado no **`print`** que exibe a primeira função. Por isso, na saída que é mostrada abaixo da célula, é primeiro mostrado o **`print`** com os parâmetros e depois mostrado o **`print`** com o resultado da função.\n",
        "\n",
        "Apesar das funções serem muito parecidas, exercerem os mesmos papéis e terem os mesmos retornos, elas não são iguais, como é mostrado pelas 3 últimas linhas da célula acima."
      ]
    },
    {
      "cell_type": "markdown",
      "metadata": {
        "id": "zSlpv5jLMX8Y"
      },
      "source": [
        "## Retorno de funções\n",
        "\n",
        "As funções declaradas anteriormente não têm retorno, ou melhor, retornam o valor **`None`** do tipo **`NoneType`**. Porém geralmente é desejável criar funções que peguem parâmetros de entrada, façam operações com eles e depois retornem o resultado dessas operações. Na célula abaixo são mostrados exemplos de funções com retorno"
      ]
    },
    {
      "cell_type": "code",
      "source": [
        "def fun1(x):\n",
        "  v1 = x**2\n",
        "  v2 = x**3\n",
        "  total = v1+v2\n",
        "  return (total, v1, v2)\n",
        "\n",
        "\n",
        "print('Retorno é:', fun1(2))"
      ],
      "metadata": {
        "colab": {
          "base_uri": "https://localhost:8080/"
        },
        "id": "J4Vgu62xeBZ1",
        "outputId": "e1fb6066-a20a-400d-af13-2af68d023252"
      },
      "execution_count": null,
      "outputs": [
        {
          "output_type": "stream",
          "name": "stdout",
          "text": [
            "Retorno é: (12, 4, 8)\n"
          ]
        }
      ]
    },
    {
      "cell_type": "code",
      "metadata": {
        "id": "qwCwqONdGIHm",
        "colab": {
          "base_uri": "https://localhost:8080/"
        },
        "outputId": "ca7ee4cf-e8e3-4b1b-ad7d-8ae7e5449049"
      },
      "source": [
        "def fun1(x):\n",
        "  v1 = x**2\n",
        "  v2 = (x*8)\n",
        "  total1 = v1+v2 #(x**2)+(x*8)\n",
        "  return total1\n",
        "\n",
        "print('Função 1 - v1+v2')\n",
        "print('\\t Resultado para v1 = 2:',fun1(2))\n",
        "print('\\t Resultado para v2 = 8:',fun1(8))\n",
        "\n",
        "def fun2(x):\n",
        "  v1 = x**2\n",
        "  v2 = (x*8)\n",
        "  total2 = v1*v2   #(x**2)*(x*8)\n",
        "  return total2\n",
        "\n",
        "print('Função 2 - vv1*v2')\n",
        "print('\\t Resultado para v1 = 2:',fun2(2))\n",
        "print('\\t Resultado para v2 = 8:',fun2(8))"
      ],
      "execution_count": null,
      "outputs": [
        {
          "output_type": "stream",
          "name": "stdout",
          "text": [
            "Função 1 - v1+v2\n",
            "\t Resultado para v1 = 2: 20\n",
            "\t Resultado para v2 = 8: 128\n",
            "Função 2 - vv1*v2\n",
            "\t Resultado para v1 = 2: 64\n",
            "\t Resultado para v2 = 8: 4096\n"
          ]
        }
      ]
    },
    {
      "cell_type": "markdown",
      "metadata": {
        "id": "zj1csW0-HaTt"
      },
      "source": [
        "Como pode ser visto na célula acima, podemos escrever a operação diretamente após a palavra **`return`**. Isso é interessante de ser feito quando a operação é simples, pois operações muito extensas podem deixar o código com a legibilidade afetada."
      ]
    },
    {
      "cell_type": "markdown",
      "metadata": {
        "id": "RNRkcYxQPC0O"
      },
      "source": [
        "## Variáveis locais e globais\n",
        "\n",
        "Ao se utilizar funções é importante ter em mente o conceito de escopos locais e globais. Escopo local são as definições de variáveis que ocorrem dentro de uma função (no bloco dentro do **`def`**), enquanto escopo global diz respeito às definições de variáveis que ocorrem no nível geral do programa.\n",
        "\n",
        "É importante notar que as variáveis declaradas no escopo de uma função **só existem dentro da função e em escopos abaixo dela**. Depois que a função é executada elas desaparacem, como mostrado abaixo"
      ]
    },
    {
      "cell_type": "code",
      "metadata": {
        "id": "Ok4agKqjSa-H",
        "colab": {
          "base_uri": "https://localhost:8080/",
          "height": 217
        },
        "outputId": "5473c265-51d5-420b-aa9f-c3e63608cc43"
      },
      "source": [
        "def foo():\n",
        "  teste_escopo = '123'\n",
        "  print('Print interno',teste_escopo)\n",
        "  return\n",
        "\n",
        "# Chamamos a função para ser executada\n",
        "foo()\n",
        "# Tentamos imprimir na tela o valor da variável local da função\n",
        "print(teste_escopo) # Resultará em erro!\n",
        "\n",
        "# Por que o erro ocorreu? Resolva-o."
      ],
      "execution_count": null,
      "outputs": [
        {
          "output_type": "stream",
          "name": "stdout",
          "text": [
            "Print interno 123\n"
          ]
        },
        {
          "output_type": "error",
          "ename": "NameError",
          "evalue": "ignored",
          "traceback": [
            "\u001b[0;31m---------------------------------------------------------------------------\u001b[0m",
            "\u001b[0;31mNameError\u001b[0m                                 Traceback (most recent call last)",
            "\u001b[0;32m<ipython-input-22-6892c8632a01>\u001b[0m in \u001b[0;36m<cell line: 9>\u001b[0;34m()\u001b[0m\n\u001b[1;32m      7\u001b[0m \u001b[0mfoo\u001b[0m\u001b[0;34m(\u001b[0m\u001b[0;34m)\u001b[0m\u001b[0;34m\u001b[0m\u001b[0;34m\u001b[0m\u001b[0m\n\u001b[1;32m      8\u001b[0m \u001b[0;31m# Tentamos imprimir na tela o valor da variável local da função\u001b[0m\u001b[0;34m\u001b[0m\u001b[0;34m\u001b[0m\u001b[0m\n\u001b[0;32m----> 9\u001b[0;31m \u001b[0mprint\u001b[0m\u001b[0;34m(\u001b[0m\u001b[0mteste_escopo\u001b[0m\u001b[0;34m)\u001b[0m \u001b[0;31m# Resultará em erro!\u001b[0m\u001b[0;34m\u001b[0m\u001b[0;34m\u001b[0m\u001b[0m\n\u001b[0m",
            "\u001b[0;31mNameError\u001b[0m: name 'teste_escopo' is not defined"
          ]
        }
      ]
    },
    {
      "cell_type": "markdown",
      "metadata": {
        "id": "w0t63jdHWVIZ"
      },
      "source": [
        "Já as variáveis declaradas num escopo global podem ser utilizadas dentro de funções, **porém é necessário cuidado**, pois existe uma maneira certa de mudar o valor de uma variável global dentro de uma função. Além disso, a existência de **variáveis com nomes iguais** dentro e fora da função pode **gerar grandes confusões**."
      ]
    },
    {
      "cell_type": "code",
      "metadata": {
        "id": "5jJ7-9BYmc5f",
        "colab": {
          "base_uri": "https://localhost:8080/"
        },
        "outputId": "fe5ad6a6-d7bb-4d18-c014-f92bdb25eb38"
      },
      "source": [
        "var1 = 'Valor incial - global'\n",
        "\n",
        "print('Primeiro print de fora - global:\\t', var1)\n",
        "\n",
        "def altera():\n",
        "  var1 = 'Novo valor - local'\n",
        "  print('Print dentro da função:\\t', var1)\n",
        "\n",
        "altera()\n",
        "print('Último print de fora - global:\\t', var1)"
      ],
      "execution_count": null,
      "outputs": [
        {
          "output_type": "stream",
          "name": "stdout",
          "text": [
            "Primeiro print de fora - global:\t Valor incial - global\n",
            "Print dentro da função:\t Novo valor - local\n",
            "Último print de fora - global:\t Valor incial - global\n"
          ]
        }
      ]
    },
    {
      "cell_type": "markdown",
      "metadata": {
        "id": "L_kF5FVk1aTR"
      },
      "source": [
        "Como visto acima, simplesmente alterar o valor da variável global dentro de uma função não altera seu valor fora dela. Para fazer essa alteração existem duas formas: o uso da palavra **`global`** ou retornar o novo valor, como é mostrado nos dois exemplos abaixo"
      ]
    },
    {
      "cell_type": "code",
      "metadata": {
        "id": "DOwuVevYvkrM",
        "colab": {
          "base_uri": "https://localhost:8080/"
        },
        "outputId": "fb028626-b60b-4a4c-b527-a82db9450c88"
      },
      "source": [
        "var1 = 'Valor incial - global'\n",
        "\n",
        "print('Primeiro print de fora - global:\\t', var1)\n",
        "\n",
        "def altera1():\n",
        "  # Uso da palavra **global**\n",
        "  global var1   # sinalizar as alterações para fora da função\n",
        "  var1 = 'Novo valor - local 1'\n",
        "  print('Print dentro da função 1 :\\t', var1)\n",
        "\n",
        "altera1()\n",
        "print('Print de fora após altera 1 - global:\\t', var1)\n",
        "\n",
        "print()\n",
        "def altera2():\n",
        "  # Retornando novo valor\n",
        "  var1 = 'Novo valor - local 2'\n",
        "  print('Print dentro da função 2:\\t', var1)\n",
        "  return var1\n",
        "\n",
        "print('Print com valor antes da função altera 2', var1)\n",
        "var1 = altera2()\n",
        "print('Print de fora após altera 2 - global:\\t', var1)"
      ],
      "execution_count": null,
      "outputs": [
        {
          "output_type": "stream",
          "name": "stdout",
          "text": [
            "Primeiro print de fora - global:\t Valor incial - global\n",
            "Print dentro da função 1 :\t Novo valor - local 1\n",
            "Print de fora após altera 1 - global:\t Novo valor - local 1\n",
            "\n",
            "Print com valor antes da função altera 2 Novo valor - local 1\n",
            "Print dentro da função 2:\t Novo valor - local 2\n",
            "Print de fora após altera 2 - global:\t Novo valor - local 2\n"
          ]
        }
      ]
    },
    {
      "cell_type": "markdown",
      "metadata": {
        "id": "lHUxlsmg3But"
      },
      "source": [
        "Apesar de ser possível o uso da palavra chave **`global`**, isso é **bastante desaconselhável**, pois são poucos os casos onde desejamos que funções tenham efeitos colaterais em variáveis globais.\n",
        "\n",
        "É possível utilizar uma variável local com nome igual a uma variável global. Apesar de ser possível, isso é sempre desaconselhável que isso seja feito para evitar confusões."
      ]
    },
    {
      "cell_type": "code",
      "metadata": {
        "id": "68VilUnCobXk",
        "colab": {
          "base_uri": "https://localhost:8080/"
        },
        "outputId": "beae5f0f-d6cf-4dcf-e86a-129eea64c06a"
      },
      "source": [
        "homonima = 'Variável global'\n",
        "\n",
        "def confunde_cabeca(homonima):\n",
        "  homonima = 'Variável local'\n",
        "  print('Valor de dentro:',homonima)\n",
        "  return\n",
        "\n",
        "confunde_cabeca(homonima)\n",
        "print('Depois da execução:',homonima)"
      ],
      "execution_count": null,
      "outputs": [
        {
          "output_type": "stream",
          "name": "stdout",
          "text": [
            "Valor de dentro: Variável local\n",
            "Depois da execução: Variável global\n"
          ]
        }
      ]
    },
    {
      "cell_type": "markdown",
      "metadata": {
        "id": "OAOFiepG3ihT"
      },
      "source": [
        "## Pilha de execução\n",
        "\n",
        "Como pode ser visto na seção **Definição de funções**, quando chamamos uma função a execução do programa é desviada para ela e depois retorna. Isso é possível graças à pilha de execução, que é a responsável por armazenar a ordem e os pontos de retorno do programa. A célula abaixo mostra uma sequência de chamadas de funções que demonstram o fluxo de execução de um programa."
      ]
    },
    {
      "cell_type": "code",
      "metadata": {
        "id": "AYiGaiw19ZCv",
        "colab": {
          "base_uri": "https://localhost:8080/"
        },
        "outputId": "b401b2be-85cb-406b-baf3-5a0c15f6ceef"
      },
      "source": [
        "def a():\n",
        "  print('a() começa')\n",
        "  b()\n",
        "  d()\n",
        "  print('a() retorna')\n",
        "\n",
        "def b():\n",
        "  print('b() começa')\n",
        "  c()\n",
        "  print('b() retorna')\n",
        "\n",
        "def c():\n",
        "  print('c() começa')\n",
        "  print('c() retorna')\n",
        "\n",
        "def d():\n",
        "  print('d() começa')\n",
        "  print('d() retorna')\n",
        "\n",
        "a()"
      ],
      "execution_count": null,
      "outputs": [
        {
          "output_type": "stream",
          "name": "stdout",
          "text": [
            "a() começa\n",
            "b() começa\n",
            "c() começa\n",
            "c() retorna\n",
            "b() retorna\n",
            "d() começa\n",
            "d() retorna\n",
            "a() retorna\n"
          ]
        }
      ]
    },
    {
      "cell_type": "markdown",
      "metadata": {
        "id": "kaXNaBh4-7iq"
      },
      "source": [
        "Como foi mostrado, o programa sabe todos os pontos que parou para que possa retornar, e isso é feito nos bastidores pelo próprio interpretador Python, sem a necessidade de que controlemos isso. Para isso, os endereços de retorno são empilhados, de maneira que quando termina a execução de uma função, o endereço de retorno que está no topo da pilha é retirado e seu endereço é usado pelo programa para retornar ao ponto em que foi chamado. A imagem abaixo ilustra o processo codificado na célula acima."
      ]
    },
    {
      "cell_type": "markdown",
      "metadata": {
        "id": "ZEM2ne2OAPpM"
      },
      "source": [
        "![image.png](data:image/png;base64,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)"
      ]
    }
  ]
}