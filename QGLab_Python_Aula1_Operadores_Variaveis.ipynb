{
  "nbformat": 4,
  "nbformat_minor": 0,
  "metadata": {
    "colab": {
      "provenance": []
    },
    "kernelspec": {
      "name": "python3",
      "display_name": "Python 3"
    }
  },
  "cells": [
    {
      "cell_type": "markdown",
      "metadata": {
        "id": "MIjT1s8EMQnT"
      },
      "source": [
        "#Tipos de Dados mais comuns\n",
        "\n",
        "Para se aprender como solucionar problemas usando a linguagem Python é fundamental o entendimento dos tipos de dados que a linguagem oferece,a assim como as operações que cada tipo de dado pode realizar. Para isso, neste curso serão estudados alguns dos tipos mais comuns de dados, mostrados a seguir\n"
      ]
    },
    {
      "cell_type": "markdown",
      "metadata": {
        "id": "bJW64kKFPvH9"
      },
      "source": [
        "##Números\n",
        "\n",
        "Em Python os números são divididos em 3 tipos:\n",
        "* ***Integers***\n",
        "* ***Floating point***\n",
        "* *Complex numbers*\n",
        "\n",
        "Neste curso serão abordados os tipos numéricos destacados em negrito.\n",
        "\n"
      ]
    },
    {
      "cell_type": "markdown",
      "metadata": {
        "id": "CkLcGUlhS6kW"
      },
      "source": [
        "### *Integers* ou Inteiros\n",
        "\n",
        "*Integers* são números que podem ser armazenados sem uma parte fracionária, ou seja, números inteiros. Porém há uma limitação dos números que podem ser representados com este tipo de dado.\n",
        "\n",
        "Em Python, os valores que um *Integer* pode assumir variam de acordo com a memória da máquina utilizada, porém o menor intervalo de números que um *Integer* pode assumir é de -2147483648 até 2147483647, sendo um subtipo chamado de *Plain Integer*.\n",
        "\n",
        "Números além desses valores são chamados de *Long Integer*, e o valor máximo que podem atingir depende da memória.\n",
        "\n",
        "2147483647 -> *Plain Integer*\n",
        "\n",
        "2147483648 -> *Long Integer*\n",
        "\n",
        "Para a **facilidade** do usuário da linguagem, **não é necessário se preocupar qual o tipo de Integer você está utilizando**, pois o próprio interpretador da linguagem faz o ajuste dependendo do valor utilizado, deixando o usuário da linguagem focar na lógica do programa em si."
      ]
    },
    {
      "cell_type": "markdown",
      "metadata": {
        "id": "mDdoOET0ZO8m"
      },
      "source": [
        "### *Floating point*\n",
        "\n",
        "*Floats* são números que possuem uma parte fracionária que precisa ser armazenada. Servem para \"simular\" o comportamento dos números reais, porém não podem ser chamados de números reais pois a maneira como são representados (internamente) é diferente dos números reais, por isso têm nome diferente.\n",
        "\n",
        "De maneira geral, números de ponto flutuante são utilizados em situações que fazem uso de números reais. É possível, com o uso de bibliotecas externas, trabalhar com números reais de verdade, porém isso impacta no desempenho do programa. Como regra geral, a menos que seu programa precise de valor **muitíssimo** precisos, o uso de *floats* é sempre recomendado\n",
        "\n",
        "Para fazer uso de um *float* basta digitar um número com a parte decimal separada por ponto, e isso pode ser feito das seguintes maneiras:\n",
        "\n",
        "* `3.14`\n",
        "* `10.`\n",
        "* `.001`\n",
        "* `3.14e-10`"
      ]
    },
    {
      "cell_type": "markdown",
      "metadata": {
        "id": "bDqHF3vbh5hc"
      },
      "source": [
        "###Operadores Aritméticos"
      ]
    },
    {
      "cell_type": "markdown",
      "metadata": {
        "id": "ZDRAWmvTh11y"
      },
      "source": [
        "Para trabalhar com números é necessário o uso de operadores. Em Python os operadores aritméticos são responsáveis por 7 tipos de operações:\n",
        "\n",
        "Símbolo | Nome\n",
        "------ | ------\n",
        "+   | Soma\n",
        "-   | Subtração\n",
        "*   | Multiplicação\n",
        "/   | Divisão\n",
        "%   | Módulo\n",
        "**   | Exponenciação\n",
        "//   | Divisão Inteira (arrendondada p/ baixo)"
      ]
    },
    {
      "cell_type": "markdown",
      "metadata": {
        "id": "jYd2D2VoSucb"
      },
      "source": [
        "Abaixo temos exemplos do uso dos operadores, seguindo a ordem que foram apresentados na tabela:"
      ]
    },
    {
      "cell_type": "markdown",
      "source": [
        "'''Não esqueça JAMAIS que decimais são separados por pontos'''"
      ],
      "metadata": {
        "id": "10Vte9pCMvMw"
      }
    },
    {
      "cell_type": "code",
      "metadata": {
        "id": "PUitGNMFR_t1",
        "colab": {
          "base_uri": "https://localhost:8080/"
        },
        "outputId": "130e407b-b62a-4c07-a681-63c507fd361c"
      },
      "source": [
        "345 + 724.74"
      ],
      "execution_count": null,
      "outputs": [
        {
          "output_type": "execute_result",
          "data": {
            "text/plain": [
              "1069.74"
            ]
          },
          "metadata": {},
          "execution_count": 1
        }
      ]
    },
    {
      "cell_type": "markdown",
      "source": [
        "'''Se eu queiser saber qual tipo de número é'''"
      ],
      "metadata": {
        "id": "cWIP8R9DWDq6"
      }
    },
    {
      "cell_type": "code",
      "source": [
        "type(1069.74)"
      ],
      "metadata": {
        "colab": {
          "base_uri": "https://localhost:8080/"
        },
        "id": "yIAd7v-eWDbC",
        "outputId": "61dcc313-1d0c-4b31-f5fc-e9e38cdd7a76"
      },
      "execution_count": null,
      "outputs": [
        {
          "output_type": "execute_result",
          "data": {
            "text/plain": [
              "float"
            ]
          },
          "metadata": {},
          "execution_count": 14
        }
      ]
    },
    {
      "cell_type": "code",
      "metadata": {
        "id": "DOk8jdktR_4V",
        "colab": {
          "base_uri": "https://localhost:8080/"
        },
        "outputId": "25ce8cc0-1f0f-4c4e-a674-d5bdd1c19ba9"
      },
      "source": [
        "6 - 3"
      ],
      "execution_count": null,
      "outputs": [
        {
          "output_type": "execute_result",
          "data": {
            "text/plain": [
              "3"
            ]
          },
          "metadata": {},
          "execution_count": 2
        }
      ]
    },
    {
      "cell_type": "code",
      "source": [
        "type (3)"
      ],
      "metadata": {
        "colab": {
          "base_uri": "https://localhost:8080/"
        },
        "id": "1842mbKYWRsP",
        "outputId": "dde36dfd-743d-45cb-bea4-19a703cb4098"
      },
      "execution_count": null,
      "outputs": [
        {
          "output_type": "execute_result",
          "data": {
            "text/plain": [
              "int"
            ]
          },
          "metadata": {},
          "execution_count": 15
        }
      ]
    },
    {
      "cell_type": "code",
      "source": [
        "type(5+2j)"
      ],
      "metadata": {
        "colab": {
          "base_uri": "https://localhost:8080/"
        },
        "id": "e6lSXS_NJ74p",
        "outputId": "f78dad85-55f5-4bb5-f325-b57733e8d800"
      },
      "execution_count": null,
      "outputs": [
        {
          "output_type": "execute_result",
          "data": {
            "text/plain": [
              "complex"
            ]
          },
          "metadata": {},
          "execution_count": 1
        }
      ]
    },
    {
      "cell_type": "markdown",
      "source": [
        "Multiplicação usa *"
      ],
      "metadata": {
        "id": "Y9sxuEcBLilo"
      }
    },
    {
      "cell_type": "code",
      "metadata": {
        "id": "KFNKdD9TS1Q4",
        "colab": {
          "base_uri": "https://localhost:8080/"
        },
        "outputId": "98a843a4-b5a2-48f8-b39e-00bed10cc64a"
      },
      "source": [
        "4 * 8.82"
      ],
      "execution_count": null,
      "outputs": [
        {
          "output_type": "execute_result",
          "data": {
            "text/plain": [
              "35.28"
            ]
          },
          "metadata": {},
          "execution_count": 11
        }
      ]
    },
    {
      "cell_type": "markdown",
      "metadata": {
        "id": "11iC00LYfls3"
      },
      "source": [
        "'''Para editar uma célula de código no Google Colab, basta clicar uma vez sobre a célula e posicionar o cursor no local desejado'''\n",
        "\n",
        "'''Para editar uma célua de texto, clique duplo sobre a célula ou um clique no lápis, que fica no canto superior direito da célula (tem que dar um clique sobre a célula para aparecer'''"
      ]
    },
    {
      "cell_type": "code",
      "metadata": {
        "id": "qsUomumzTA8m",
        "colab": {
          "base_uri": "https://localhost:8080/"
        },
        "outputId": "c0fc1da4-f9e3-47b7-fe69-75eef97faed7"
      },
      "source": [
        "15 / 4"
      ],
      "execution_count": null,
      "outputs": [
        {
          "output_type": "execute_result",
          "data": {
            "text/plain": [
              "3.75"
            ]
          },
          "metadata": {},
          "execution_count": 2
        }
      ]
    },
    {
      "cell_type": "markdown",
      "metadata": {
        "id": "Im55PWtRUF0B"
      },
      "source": [
        "A operação de **módulo** trata-se da operação de divisão que **retorna o resto** ao invés do resultado"
      ]
    },
    {
      "cell_type": "code",
      "metadata": {
        "id": "Inf7EdG3TGfA",
        "colab": {
          "base_uri": "https://localhost:8080/"
        },
        "outputId": "c80cc33e-6148-4fc4-c1b3-2c3ede5c0cbd"
      },
      "source": [
        "13 % 4"
      ],
      "execution_count": null,
      "outputs": [
        {
          "output_type": "execute_result",
          "data": {
            "text/plain": [
              "1"
            ]
          },
          "metadata": {},
          "execution_count": 3
        }
      ]
    },
    {
      "cell_type": "markdown",
      "metadata": {
        "id": "D7Bo3fVLW4OU"
      },
      "source": [
        "O operador de **exponenciação**, representado por \\*\\*, **eleva o primeiro número ao segundo**, como exemplificado abaixo:"
      ]
    },
    {
      "cell_type": "code",
      "metadata": {
        "id": "ISeYt53mgKTS"
      },
      "source": [
        "2 ** 3"
      ],
      "execution_count": null,
      "outputs": []
    },
    {
      "cell_type": "code",
      "source": [
        "'''E raiz quadrada, como faz?\n",
        "Não existe símbolo para operações de raiz na estrutura do Python. Mas um pouco à frente veremos como extrair raiz usando bibliotecas'''"
      ],
      "metadata": {
        "id": "oYZkAyMgQen5"
      },
      "execution_count": null,
      "outputs": []
    },
    {
      "cell_type": "code",
      "source": [
        "'''     '''"
      ],
      "metadata": {
        "id": "Vg_yVHmyQzlT"
      },
      "execution_count": null,
      "outputs": []
    },
    {
      "cell_type": "markdown",
      "metadata": {
        "id": "8HKoZsFTXtiL"
      },
      "source": [
        "Por fim, o operador // trata-se da **divisão inteira** ou arredondamento para baixo da divisão. Na célula abaixo são utilizados os mesmos valores dos exemplos anteriores de divisão"
      ]
    },
    {
      "cell_type": "code",
      "metadata": {
        "id": "uMzq4K1sXtG7",
        "colab": {
          "base_uri": "https://localhost:8080/"
        },
        "outputId": "6c182c12-d767-4d69-a516-4cc640e489e9"
      },
      "source": [
        "15 / 7"
      ],
      "execution_count": null,
      "outputs": [
        {
          "output_type": "execute_result",
          "data": {
            "text/plain": [
              "2.142857142857143"
            ]
          },
          "metadata": {},
          "execution_count": 5
        }
      ]
    },
    {
      "cell_type": "code",
      "source": [
        "15//7"
      ],
      "metadata": {
        "colab": {
          "base_uri": "https://localhost:8080/"
        },
        "id": "Op63ApVBWp9J",
        "outputId": "f8b2e9c2-3e5f-404d-b132-93f3d1a8093f"
      },
      "execution_count": null,
      "outputs": [
        {
          "output_type": "execute_result",
          "data": {
            "text/plain": [
              "2"
            ]
          },
          "metadata": {},
          "execution_count": 6
        }
      ]
    },
    {
      "cell_type": "code",
      "source": [
        "int(15/7)"
      ],
      "metadata": {
        "colab": {
          "base_uri": "https://localhost:8080/"
        },
        "id": "cBFv4Z1NQrw_",
        "outputId": "5f1b5d1d-d1fb-453f-eebb-62f441c050c3"
      },
      "execution_count": null,
      "outputs": [
        {
          "output_type": "execute_result",
          "data": {
            "text/plain": [
              "2"
            ]
          },
          "metadata": {},
          "execution_count": 12
        }
      ]
    },
    {
      "cell_type": "markdown",
      "source": [
        "'''Como arredondar um número com n casas decimais?'''"
      ],
      "metadata": {
        "id": "vOSPB51RYMQH"
      }
    },
    {
      "cell_type": "code",
      "source": [
        "# Arredondar um número decimal\n",
        "round(3.14159265359)"
      ],
      "metadata": {
        "id": "1Jf__-okXSpe"
      },
      "execution_count": null,
      "outputs": []
    },
    {
      "cell_type": "code",
      "source": [
        "# Defina pi como uma variável e arredonde-o com 3 casas decimais"
      ],
      "metadata": {
        "colab": {
          "base_uri": "https://localhost:8080/"
        },
        "id": "t57IFoHDG0VM",
        "outputId": "d3b84644-e4f3-4667-9718-5ccf46cd8ba5"
      },
      "execution_count": null,
      "outputs": [
        {
          "output_type": "execute_result",
          "data": {
            "text/plain": [
              "3.142"
            ]
          },
          "metadata": {},
          "execution_count": 22
        }
      ]
    },
    {
      "cell_type": "markdown",
      "source": [
        "Agora que você modificou o código, salve seu notebook para tê-lo atualizado."
      ],
      "metadata": {
        "id": "xCyCwxjepjUJ"
      }
    },
    {
      "cell_type": "markdown",
      "metadata": {
        "id": "AxS5-POEgu49"
      },
      "source": [
        "A tabela abaixo faz uma síntese dos operadores apresentados:\n",
        "\n",
        "Símbolo | Nome | Exemplo\n",
        "------ | ------ | ------\n",
        "+   | Soma | 2 + 2 = 4\n",
        "-   | Subtração | 6 - 3 = 3\n",
        "*   | Multiplicação | 4 * 8 = 32\n",
        "/   | Divisão | 15 / 2 = 7,5\n",
        "%   | Módulo | 15 % 2 = 1\n",
        "**   | Exponenciação | 2 \\** 3 = 8\n",
        "//   | Divisão arrendondada (baixo) | 15 // 2 = 7"
      ]
    },
    {
      "cell_type": "markdown",
      "metadata": {
        "id": "rWqjuVGTe46w"
      },
      "source": [
        "Nos casos de cálculos em que a **ordem dos operandos é importante**, pode-se **fazer uso de parênteses**"
      ]
    },
    {
      "cell_type": "code",
      "source": [
        "8+2*6\n",
        "# A resposta é 60 ou 20?"
      ],
      "metadata": {
        "colab": {
          "base_uri": "https://localhost:8080/"
        },
        "id": "P8K1m6mScAjQ",
        "outputId": "6bd2a8f5-283b-4d01-d9f6-8bd97ebe421d"
      },
      "execution_count": null,
      "outputs": [
        {
          "output_type": "execute_result",
          "data": {
            "text/plain": [
              "20"
            ]
          },
          "metadata": {},
          "execution_count": 25
        }
      ]
    },
    {
      "cell_type": "code",
      "source": [
        "(8+2)*6"
      ],
      "metadata": {
        "colab": {
          "base_uri": "https://localhost:8080/"
        },
        "id": "iRfoODrRcOpc",
        "outputId": "e5aea1d1-5fb2-467c-f428-dad1f12c9454"
      },
      "execution_count": null,
      "outputs": [
        {
          "output_type": "execute_result",
          "data": {
            "text/plain": [
              "60"
            ]
          },
          "metadata": {},
          "execution_count": 1
        }
      ]
    },
    {
      "cell_type": "code",
      "source": [
        "2**3"
      ],
      "metadata": {
        "colab": {
          "base_uri": "https://localhost:8080/"
        },
        "id": "K9wgQvn0u7nP",
        "outputId": "c1b0c208-fc70-4424-efc0-910c3e1681a6"
      },
      "execution_count": null,
      "outputs": [
        {
          "output_type": "execute_result",
          "data": {
            "text/plain": [
              "8"
            ]
          },
          "metadata": {},
          "execution_count": 70
        }
      ]
    },
    {
      "cell_type": "code",
      "source": [
        "2e4"
      ],
      "metadata": {
        "colab": {
          "base_uri": "https://localhost:8080/"
        },
        "id": "JbqDhGpcu915",
        "outputId": "7e8a7fa0-b990-4771-a388-e64b379625f2"
      },
      "execution_count": null,
      "outputs": [
        {
          "output_type": "execute_result",
          "data": {
            "text/plain": [
              "20000.0"
            ]
          },
          "metadata": {},
          "execution_count": 74
        }
      ]
    },
    {
      "cell_type": "code",
      "source": [
        "2e400"
      ],
      "metadata": {
        "colab": {
          "base_uri": "https://localhost:8080/"
        },
        "id": "GmbqsxOUvjbe",
        "outputId": "76831111-6f96-428c-d8fd-f9b7633bf68a"
      },
      "execution_count": null,
      "outputs": [
        {
          "output_type": "execute_result",
          "data": {
            "text/plain": [
              "inf"
            ]
          },
          "metadata": {},
          "execution_count": 1
        }
      ]
    },
    {
      "cell_type": "code",
      "metadata": {
        "id": "cZ17vL2DfInz",
        "colab": {
          "base_uri": "https://localhost:8080/"
        },
        "outputId": "77c11619-d808-4334-b1b1-ac4cac189388"
      },
      "source": [
        "2 ** (3 ** 2)"
      ],
      "execution_count": null,
      "outputs": [
        {
          "output_type": "execute_result",
          "data": {
            "text/plain": [
              "512"
            ]
          },
          "metadata": {},
          "execution_count": 22
        }
      ]
    },
    {
      "cell_type": "code",
      "metadata": {
        "id": "Sf4ETFMbfIqA",
        "colab": {
          "base_uri": "https://localhost:8080/"
        },
        "outputId": "782c8967-1799-41d9-c570-7af05a036519"
      },
      "source": [
        "(2 ** 3) ** 2"
      ],
      "execution_count": null,
      "outputs": [
        {
          "output_type": "execute_result",
          "data": {
            "text/plain": [
              "64"
            ]
          },
          "metadata": {},
          "execution_count": 23
        }
      ]
    },
    {
      "cell_type": "code",
      "metadata": {
        "id": "Y-XHRdzwfnCt",
        "colab": {
          "base_uri": "https://localhost:8080/"
        },
        "outputId": "db96e528-89fa-4fda-f4c7-d34d9d22ae1d"
      },
      "source": [
        "15/2/2"
      ],
      "execution_count": null,
      "outputs": [
        {
          "output_type": "execute_result",
          "data": {
            "text/plain": [
              "3.75"
            ]
          },
          "metadata": {},
          "execution_count": 2
        }
      ]
    },
    {
      "cell_type": "code",
      "metadata": {
        "id": "KCDCpnw6fnEf",
        "colab": {
          "base_uri": "https://localhost:8080/"
        },
        "outputId": "47077a10-52c3-487d-b93b-fc0904e69292"
      },
      "source": [
        "15/(2/2)"
      ],
      "execution_count": null,
      "outputs": [
        {
          "output_type": "execute_result",
          "data": {
            "text/plain": [
              "15.0"
            ]
          },
          "metadata": {},
          "execution_count": 3
        }
      ]
    },
    {
      "cell_type": "markdown",
      "source": [
        "O que é isto?\n",
        "0b11011000"
      ],
      "metadata": {
        "id": "v8eq-6jPidp1"
      }
    },
    {
      "cell_type": "code",
      "source": [
        "0b11011000"
      ],
      "metadata": {
        "colab": {
          "base_uri": "https://localhost:8080/"
        },
        "id": "uJTjTlGjk05u",
        "outputId": "1595f055-3ca4-4529-acda-ebb1c1b01a73"
      },
      "execution_count": null,
      "outputs": [
        {
          "output_type": "execute_result",
          "data": {
            "text/plain": [
              "216"
            ]
          },
          "metadata": {},
          "execution_count": 9
        }
      ]
    },
    {
      "cell_type": "code",
      "source": [
        "# E isto?\n",
        "11111111"
      ],
      "metadata": {
        "colab": {
          "base_uri": "https://localhost:8080/"
        },
        "id": "C98rbWy2idZY",
        "outputId": "750485b2-7693-4127-8cec-a5842cc9c8ba"
      },
      "execution_count": null,
      "outputs": [
        {
          "output_type": "execute_result",
          "data": {
            "text/plain": [
              "11111111"
            ]
          },
          "metadata": {},
          "execution_count": 7
        }
      ]
    },
    {
      "cell_type": "code",
      "source": [
        "type(11111111) # inteiro na notação binária"
      ],
      "metadata": {
        "colab": {
          "base_uri": "https://localhost:8080/"
        },
        "id": "NdWHb2GgKcpQ",
        "outputId": "a3e2f286-d2b0-4d11-ecc3-9ff53c74abd0"
      },
      "execution_count": null,
      "outputs": [
        {
          "output_type": "execute_result",
          "data": {
            "text/plain": [
              "int"
            ]
          },
          "metadata": {},
          "execution_count": 3
        }
      ]
    },
    {
      "cell_type": "code",
      "source": [
        "0b11111111"
      ],
      "metadata": {
        "colab": {
          "base_uri": "https://localhost:8080/"
        },
        "id": "MXWa-X2OidO6",
        "outputId": "40bdba3d-03a0-4b9e-9a69-5e03d52764c6"
      },
      "execution_count": null,
      "outputs": [
        {
          "output_type": "execute_result",
          "data": {
            "text/plain": [
              "255"
            ]
          },
          "metadata": {},
          "execution_count": 23
        }
      ]
    },
    {
      "cell_type": "code",
      "source": [
        "type(0b11111111)"
      ],
      "metadata": {
        "colab": {
          "base_uri": "https://localhost:8080/"
        },
        "id": "si-nsprsKiCs",
        "outputId": "9ceb286f-a22d-4bf2-9e9e-745c4baa4fdd"
      },
      "execution_count": null,
      "outputs": [
        {
          "output_type": "execute_result",
          "data": {
            "text/plain": [
              "int"
            ]
          },
          "metadata": {},
          "execution_count": 4
        }
      ]
    },
    {
      "cell_type": "code",
      "source": [
        "0xFF # inteiro na notação hexadecimal"
      ],
      "metadata": {
        "colab": {
          "base_uri": "https://localhost:8080/"
        },
        "id": "wdXHVCfEiczb",
        "outputId": "a3d101a5-a1f8-4a85-bb5f-427dec273b19"
      },
      "execution_count": null,
      "outputs": [
        {
          "output_type": "execute_result",
          "data": {
            "text/plain": [
              "255"
            ]
          },
          "metadata": {},
          "execution_count": 28
        }
      ]
    },
    {
      "cell_type": "code",
      "source": [
        "type(0xFF)"
      ],
      "metadata": {
        "colab": {
          "base_uri": "https://localhost:8080/"
        },
        "id": "tPstalwDKm7W",
        "outputId": "46eed717-f54f-4508-aedf-b922bb57d280"
      },
      "execution_count": null,
      "outputs": [
        {
          "output_type": "execute_result",
          "data": {
            "text/plain": [
              "int"
            ]
          },
          "metadata": {},
          "execution_count": 5
        }
      ]
    },
    {
      "cell_type": "markdown",
      "source": [
        "Por que isto é importante e onde eu vou usar isto?\n",
        "Abra o Google e digite #d15b77 color, em seguida aperte Enter."
      ],
      "metadata": {
        "id": "7iOsfn9loU71"
      }
    },
    {
      "cell_type": "code",
      "source": [
        "0xD15B77"
      ],
      "metadata": {
        "colab": {
          "base_uri": "https://localhost:8080/"
        },
        "id": "qMva2kw1ickJ",
        "outputId": "c7749ad7-fe10-4603-896b-4a9294d26a51"
      },
      "execution_count": null,
      "outputs": [
        {
          "output_type": "execute_result",
          "data": {
            "text/plain": [
              "13720439"
            ]
          },
          "metadata": {},
          "execution_count": 36
        }
      ]
    },
    {
      "cell_type": "markdown",
      "source": [
        "# Dados booleanos"
      ],
      "metadata": {
        "id": "el31dh7s4u9Y"
      }
    },
    {
      "cell_type": "code",
      "source": [
        "2==2"
      ],
      "metadata": {
        "colab": {
          "base_uri": "https://localhost:8080/"
        },
        "id": "s6bqu_eD4wJ5",
        "outputId": "328f4da2-cfde-4c50-a946-17d49a990379"
      },
      "execution_count": null,
      "outputs": [
        {
          "output_type": "execute_result",
          "data": {
            "text/plain": [
              "True"
            ]
          },
          "metadata": {},
          "execution_count": 1
        }
      ]
    },
    {
      "cell_type": "code",
      "source": [
        "2==1"
      ],
      "metadata": {
        "colab": {
          "base_uri": "https://localhost:8080/"
        },
        "id": "6VLKvSVG48bH",
        "outputId": "7a1db302-3bd3-4a12-dff8-2a9aa57a0edd"
      },
      "execution_count": null,
      "outputs": [
        {
          "output_type": "execute_result",
          "data": {
            "text/plain": [
              "False"
            ]
          },
          "metadata": {},
          "execution_count": 2
        }
      ]
    },
    {
      "cell_type": "markdown",
      "source": [
        "# E por último, o que é isto?\n"
      ],
      "metadata": {
        "id": "GxgIurSHo3TN"
      }
    },
    {
      "cell_type": "code",
      "source": [
        "\"string\""
      ],
      "metadata": {
        "colab": {
          "base_uri": "https://localhost:8080/",
          "height": 35
        },
        "id": "LqQtc9Q0pH3h",
        "outputId": "1bec34b3-dc88-4084-b804-0f82e0af0188"
      },
      "execution_count": null,
      "outputs": [
        {
          "output_type": "execute_result",
          "data": {
            "text/plain": [
              "'string'"
            ],
            "application/vnd.google.colaboratory.intrinsic+json": {
              "type": "string"
            }
          },
          "metadata": {},
          "execution_count": 40
        }
      ]
    },
    {
      "cell_type": "code",
      "source": [
        "type(\"string\")"
      ],
      "metadata": {
        "colab": {
          "base_uri": "https://localhost:8080/"
        },
        "id": "RpQ-eftVpMZp",
        "outputId": "83532b90-7773-437e-cbea-b6a494acc588"
      },
      "execution_count": null,
      "outputs": [
        {
          "output_type": "execute_result",
          "data": {
            "text/plain": [
              "str"
            ]
          },
          "metadata": {},
          "execution_count": 41
        }
      ]
    },
    {
      "cell_type": "markdown",
      "metadata": {
        "id": "ynpICFuJow-y"
      },
      "source": [
        "## *Strings*\n",
        "\n",
        "*Strings* tratam-se de **sequências de caracteres** que são utilizadas para **representar conteúdos textuais**, como palavras e frases.\n",
        "\n",
        "Em Python as *strings* são textos representados entre aspas ou entre apóstrofos, como os exemplos abaixo\n",
        "\n",
        "* `\"Palmeiras dodecacampeão\"`\n",
        "* `'Vem ni mim 2024'`\n",
        "* `'GeoInovações'`\n",
        "* `\"Rua Dr. Cesar Castiglioni Jr., número 380\"`\n",
        "\n",
        "Assim como ocorre com os números, podemos também realizar algumas operações com strings, porém, apesar de alguns operadores terem o mesmo símbolo, as operações realizadas são diferentes, como mostrado a seguir\n",
        "\n"
      ]
    },
    {
      "cell_type": "code",
      "metadata": {
        "id": "Qw9hxewrxLzx"
      },
      "source": [
        "# Operação de concatenação\n",
        "\"Avenida\" + \"Braz Leme\""
      ],
      "execution_count": null,
      "outputs": []
    },
    {
      "cell_type": "code",
      "metadata": {
        "id": "-VqgXldwBFT6",
        "colab": {
          "base_uri": "https://localhost:8080/",
          "height": 35
        },
        "outputId": "530cef5b-c9ba-435c-bead-9266a0921798"
      },
      "source": [
        "#Operação de repetição\n",
        "'Avenida'*4"
      ],
      "execution_count": null,
      "outputs": [
        {
          "output_type": "execute_result",
          "data": {
            "text/plain": [
              "'AvenidaAvenidaAvenidaAvenida'"
            ],
            "application/vnd.google.colaboratory.intrinsic+json": {
              "type": "string"
            }
          },
          "metadata": {},
          "execution_count": 45
        }
      ]
    },
    {
      "cell_type": "code",
      "source": [
        "# Operação de concatenação + repetição\n",
        "\"Para\" + \"le\"*2 +\"pípedo\""
      ],
      "metadata": {
        "colab": {
          "base_uri": "https://localhost:8080/",
          "height": 35
        },
        "id": "IjWMQ621s8qG",
        "outputId": "b00bbd5a-f2c5-4ddd-f83c-3162bd827142"
      },
      "execution_count": null,
      "outputs": [
        {
          "output_type": "execute_result",
          "data": {
            "text/plain": [
              "'Paralelepípedo'"
            ],
            "application/vnd.google.colaboratory.intrinsic+json": {
              "type": "string"
            }
          },
          "metadata": {},
          "execution_count": 7
        }
      ]
    },
    {
      "cell_type": "markdown",
      "metadata": {
        "id": "svAsdI0IkIt3"
      },
      "source": [
        "Muitas vezes é preciso fazer uso de alguns caracteres que não podem ser simplemente digitados, como é o exemplo do caracter de tabulação (**TAB**) e quebra de linha (**ENTER**)"
      ]
    },
    {
      "cell_type": "code",
      "metadata": {
        "id": "8M1vfl6Dleo8"
      },
      "source": [
        "# Tentativa de digitar a tecla tab\n",
        "' '"
      ],
      "execution_count": null,
      "outputs": []
    },
    {
      "cell_type": "code",
      "metadata": {
        "id": "epCDSQcKlm0S"
      },
      "source": [
        "# Tentativa de digitar a tecla enter\n",
        "'\n",
        "'"
      ],
      "execution_count": null,
      "outputs": []
    },
    {
      "cell_type": "markdown",
      "metadata": {
        "id": "G4-X-zADlq4f"
      },
      "source": [
        "Para conseguirmos utilizar alguns desses caracteres especiais é preciso **escapá-los fazendo uso de uma barra invertida** (*backslash*)\n",
        "\n",
        "No caso da tabulação e da quebra de linha, é necessário escapar fazer uso de **`\\t`** e **`\\n`**, respectivamente, como mostrado a seguir"
      ]
    },
    {
      "cell_type": "code",
      "metadata": {
        "id": "lWhZEZ0Nl1kG"
      },
      "source": [
        "# Maneira correta de inserir tabulação dentro de string\n",
        "print('Avenida\\tBraz\\tLeme')"
      ],
      "execution_count": null,
      "outputs": []
    },
    {
      "cell_type": "code",
      "metadata": {
        "id": "Dj0ADuwemg4D"
      },
      "source": [
        "# Maneira correta de inserir quebra de linha (enter) dentro de string\n",
        "print('Avenida\\tBraz\\tLeme\\nCasa Verde')"
      ],
      "execution_count": null,
      "outputs": []
    },
    {
      "cell_type": "code",
      "source": [
        "# Outro jeito\n",
        "print('Avenida Braz Leme\\nCasa Verde')"
      ],
      "metadata": {
        "id": "vhfJ3oFuq3d6"
      },
      "execution_count": null,
      "outputs": []
    },
    {
      "cell_type": "markdown",
      "metadata": {
        "id": "TxV074VMnPFF"
      },
      "source": [
        "O mesmo é válido caso seja preciso usar apóstrofo ou aspas dentro de uma string"
      ]
    },
    {
      "cell_type": "code",
      "metadata": {
        "id": "wreRBlJJncf3",
        "colab": {
          "base_uri": "https://localhost:8080/",
          "height": 140
        },
        "outputId": "10c31604-7eb8-4100-e41f-8de49b7a145d"
      },
      "source": [
        "'Jeito errado de colocar ' dentro de uma string'\n",
        "\n",
        "\"Jeito errado de colocar \" dentro de uma string\""
      ],
      "execution_count": null,
      "outputs": [
        {
          "output_type": "error",
          "ename": "SyntaxError",
          "evalue": "ignored",
          "traceback": [
            "\u001b[0;36m  File \u001b[0;32m\"<ipython-input-30-b6f24f7df176>\"\u001b[0;36m, line \u001b[0;32m3\u001b[0m\n\u001b[0;31m    \"Jeito errado de colocar \" dentro de uma string\"\u001b[0m\n\u001b[0m                                                   ^\u001b[0m\n\u001b[0;31mSyntaxError\u001b[0m\u001b[0;31m:\u001b[0m unterminated string literal (detected at line 3)\n"
          ]
        }
      ]
    },
    {
      "cell_type": "code",
      "metadata": {
        "id": "CqoAANaonsJL",
        "colab": {
          "base_uri": "https://localhost:8080/",
          "height": 35
        },
        "outputId": "5098f94a-d3fe-412a-fb01-7f9969a5f936"
      },
      "source": [
        "\"Se possível, alternar entre apóstrofo ' e aspas\""
      ],
      "execution_count": null,
      "outputs": [
        {
          "output_type": "execute_result",
          "data": {
            "text/plain": [
              "\"Se possível, alternar entre apóstrofo ' e aspas\""
            ],
            "application/vnd.google.colaboratory.intrinsic+json": {
              "type": "string"
            }
          },
          "metadata": {},
          "execution_count": 1
        }
      ]
    },
    {
      "cell_type": "code",
      "metadata": {
        "id": "oShvWxIpnww3",
        "colab": {
          "base_uri": "https://localhost:8080/",
          "height": 35
        },
        "outputId": "7ec5e5e0-d494-4a09-8f07-3c056d7be817"
      },
      "source": [
        "'Se não for possível alternar, utilizar \\' para não haver problemas.'"
      ],
      "execution_count": null,
      "outputs": [
        {
          "output_type": "execute_result",
          "data": {
            "text/plain": [
              "\"Se não for possível alternar, utilizar ' para não haver problemas.\""
            ],
            "application/vnd.google.colaboratory.intrinsic+json": {
              "type": "string"
            }
          },
          "metadata": {},
          "execution_count": 2
        }
      ]
    },
    {
      "cell_type": "code",
      "metadata": {
        "id": "eQq_zH8Ln6iX",
        "colab": {
          "base_uri": "https://localhost:8080/",
          "height": 35
        },
        "outputId": "fcb281a4-5759-4e54-e586-3008a4e335bf"
      },
      "source": [
        "\"O mesmo é válido para \\\" sem que haja problema.\""
      ],
      "execution_count": null,
      "outputs": [
        {
          "output_type": "execute_result",
          "data": {
            "text/plain": [
              "'O mesmo é válido para \" sem que haja problema.'"
            ],
            "application/vnd.google.colaboratory.intrinsic+json": {
              "type": "string"
            }
          },
          "metadata": {},
          "execution_count": 55
        }
      ]
    },
    {
      "cell_type": "markdown",
      "metadata": {
        "id": "5EiLBeqaoSAe"
      },
      "source": [
        "A tabela abaixo apresenta alguns exemplos de como escapar alguns caracteres mais comuns\n",
        "\n",
        "Caracter Escapado | Imprime como\n",
        "-|-\n",
        "\\\\' | Apóstrofo\n",
        "\\\\\" | Aspas\n",
        "\\t | Tabulação\n",
        "\\n | Quebra de linha\n",
        "\\\\\\ | Barra invertida (*backslash*)"
      ]
    },
    {
      "cell_type": "code",
      "source": [
        "print(\"este\\texto\\nao\\esta\\correto\")"
      ],
      "metadata": {
        "colab": {
          "base_uri": "https://localhost:8080/"
        },
        "id": "hiHmEByTwjkE",
        "outputId": "20d080cf-a1c3-4ebf-a9d7-782c47cbaf07"
      },
      "execution_count": null,
      "outputs": [
        {
          "output_type": "stream",
          "name": "stdout",
          "text": [
            "este\texto\n",
            "ao\\esta\\correto\n"
          ]
        }
      ]
    },
    {
      "cell_type": "markdown",
      "source": [
        "Por que isso aconteceu?"
      ],
      "metadata": {
        "id": "KKy7Y9Orw7sw"
      }
    },
    {
      "cell_type": "code",
      "source": [
        "# Conserte\n"
      ],
      "metadata": {
        "id": "iMNxASopw2NC"
      },
      "execution_count": null,
      "outputs": []
    },
    {
      "cell_type": "markdown",
      "metadata": {
        "id": "ZzDW1l6jpfJS"
      },
      "source": [
        "# Variáveis\n",
        "\n",
        "\n",
        "Imagine que o resultado de uma expressão precise ser utilizado em outras 3 expressões diferentes. Uma maneira é replicar a expressão inicial dentro das outras 3 expressões, como no exemplo abaixo:\n",
        "\n",
        "* Expressão original: 32+87/13\\*7\\*\\*(2+4)-7832*45\n",
        "* Nova Expressão 1: 32+87/13\\*7\\*\\*(2+4)-7832*45 * 37\n",
        "* Nova Expressão 2: 32+87/13\\*7\\*\\*(2+4)-7832*45 / 18\n",
        "* Nova Expressão 3: 16\\*(32+87/13\\*7\\*\\*(2+4)-7832*45) / 76\n",
        "\n",
        "Para facilitar a vizualização, na célula abaixo é utilizada a função **print()**.  Uma função que recebe um argumento, valor entre parênteses junto dela."
      ]
    },
    {
      "cell_type": "code",
      "metadata": {
        "colab": {
          "base_uri": "https://localhost:8080/"
        },
        "id": "hLlP4iywfaQz",
        "outputId": "280184e7-ef92-4a90-afaf-55f883548f51"
      },
      "source": [
        "#Expressão Original\n",
        "print('Expressão Original:',32+87/13*7**(2+4)-7832*45)\n",
        "\n",
        "#Expressões Modificadas\n",
        "print('Nova Expressão 1:',(32+87/13*7**(2+4)-7832*45) * 37)\n",
        "print('Nova Expressão 2:',(32+87/13*7**(2+4)-7832*45) / 18)\n",
        "print('Nova Expressão 3:',16*(32+87/13*7**(2+4)-7832*45) / 76)"
      ],
      "execution_count": null,
      "outputs": [
        {
          "output_type": "stream",
          "name": "stdout",
          "text": [
            "Expressão Original: 434935.30769230775\n",
            "Nova Expressão 1: 16092606.384615386\n",
            "Nova Expressão 2: 24163.072649572652\n",
            "Nova Expressão 3: 91565.32793522268\n"
          ]
        }
      ]
    },
    {
      "cell_type": "markdown",
      "metadata": {
        "id": "IXfF3o8rfY-C"
      },
      "source": [
        "Fica evidente que conforme o número de termos de uma expressão aumenta, sua escrita fica mais difícil de ser feita. Além disso, ao realizar uma mudança na expressão original, se faz necessário aplicar essa mudança em todos os locais onde essa expressão foi replicada, o que deixa o código mais propenso a *bugs*.\n",
        "\n",
        "Para evitar isso podemos utilizar **variáveis**, que são locais de armazenamento em memória atrelados a nomes simbólicos. Em Python, a criação e atribuição de uma variável é feita através do operador de atribuição, representado pelo símbolo **`=`**, como mostra o exemplo abaixo:\n",
        "\n",
        "\n",
        "\n"
      ]
    },
    {
      "cell_type": "code",
      "metadata": {
        "colab": {
          "base_uri": "https://localhost:8080/"
        },
        "id": "sbe-0lnEsAfY",
        "outputId": "30b75cfb-9e87-4e26-df4a-ac92d62f0b38"
      },
      "source": [
        "var1 = 32+87/13*7**(2+4)-7832*45\n",
        "print('Valor da variável:',var1)"
      ],
      "execution_count": null,
      "outputs": [
        {
          "output_type": "stream",
          "name": "stdout",
          "text": [
            "Valor da variável: 434935.30769230775\n"
          ]
        }
      ]
    },
    {
      "cell_type": "markdown",
      "metadata": {
        "id": "ci8osi7KsA45"
      },
      "source": [
        "Deste modo, o **resultado** da expressão **32+87/13\\*7\\*\\*(2+4)-7832\\*45** é armazenado na variável chamada **`var1`**. Ao se fazer isso, a escrita das expressões acima fica simplificada:"
      ]
    },
    {
      "cell_type": "code",
      "metadata": {
        "colab": {
          "base_uri": "https://localhost:8080/"
        },
        "id": "25RKByJ7sNyZ",
        "outputId": "a423bc76-45ea-4c2d-dc31-f7f00cf14e3e"
      },
      "source": [
        "nova_var1 = var1 * 37\n",
        "nova_var2 = var1 / 18\n",
        "nova_var3 = 16 * var1 / 76\n",
        "\n",
        "print('Nova Expressão 1:',nova_var1)\n",
        "print('Nova Expressão 2:',nova_var2)\n",
        "print('Nova Expressão 3:',nova_var3)"
      ],
      "execution_count": null,
      "outputs": [
        {
          "output_type": "stream",
          "name": "stdout",
          "text": [
            "Nova Expressão 1: 16092606.384615386\n",
            "Nova Expressão 2: 24163.072649572652\n",
            "Nova Expressão 3: 91565.32793522268\n"
          ]
        }
      ]
    },
    {
      "cell_type": "markdown",
      "metadata": {
        "id": "n7u7c6OptKxJ"
      },
      "source": [
        "**Variáveis** podem ser utilizadas para **armazenar qualquer tipo de dados**. Os exemplos abaixo mostram algumas operações com váriaveis:"
      ]
    },
    {
      "cell_type": "code",
      "source": [
        "1+2"
      ],
      "metadata": {
        "colab": {
          "base_uri": "https://localhost:8080/"
        },
        "id": "H4YA0kUdulQl",
        "outputId": "42511ce1-d70c-4ebf-d9a7-9f7104a4e3a9"
      },
      "execution_count": null,
      "outputs": [
        {
          "output_type": "execute_result",
          "data": {
            "text/plain": [
              "3"
            ]
          },
          "metadata": {},
          "execution_count": 10
        }
      ]
    },
    {
      "cell_type": "code",
      "source": [
        "x=3\n",
        "y=4\n",
        "print (\"Soma é:\", x+y)\n",
        "print (\"Subtração é:\", x-y)\n",
        "print (\"Exponenciação é:\", x*y)\n",
        "print (\"Divisão é:\", x/y)\n",
        "print (\"Raiz quadrada é:\", (y**x)**(1/2))\n"
      ],
      "metadata": {
        "colab": {
          "base_uri": "https://localhost:8080/"
        },
        "id": "q58n_xi7up5F",
        "outputId": "8b0e5e23-482e-4c5e-e2cb-b078c375d4e1"
      },
      "execution_count": null,
      "outputs": [
        {
          "output_type": "stream",
          "name": "stdout",
          "text": [
            "Soma é: 7\n",
            "Subtração é: -1\n",
            "Exponenciação é: 12\n",
            "Divisão é: 0.75\n",
            "Raiz quadrada é: 8.0\n"
          ]
        }
      ]
    },
    {
      "cell_type": "code",
      "metadata": {
        "id": "TxPhnzpJtvzU",
        "colab": {
          "base_uri": "https://localhost:8080/"
        },
        "outputId": "59283519-75a1-4b85-ceee-217d3aa10363"
      },
      "source": [
        "abacaxis = 3\n",
        "morangos = 8\n",
        "amoras = 16\n",
        "framboesas = 12\n",
        "laranjas = 2\n",
        "\n",
        "total = abacaxis + morangos + amoras + framboesas + laranjas\n",
        "print('Total de frutas:',total)\n",
        "\n",
        "vermelhas = morangos + amoras + framboesas\n",
        "print('Total de frutas vermelhas:',vermelhas)"
      ],
      "execution_count": null,
      "outputs": [
        {
          "output_type": "stream",
          "name": "stdout",
          "text": [
            "Total de frutas: 41\n",
            "Total de frutas vermelhas: 36\n"
          ]
        }
      ]
    },
    {
      "cell_type": "markdown",
      "source": [
        "Não se esqueça de salvar seu notebook, para tê-lo atualizado."
      ],
      "metadata": {
        "id": "2p1sIC2Sr_Ox"
      }
    },
    {
      "cell_type": "code",
      "metadata": {
        "id": "4wut0zwngDH2",
        "colab": {
          "base_uri": "https://localhost:8080/"
        },
        "outputId": "86d246cb-7588-455f-a578-4a2ac8b52589"
      },
      "source": [
        "laranjas"
      ],
      "execution_count": null,
      "outputs": [
        {
          "output_type": "execute_result",
          "data": {
            "text/plain": [
              "2"
            ]
          },
          "metadata": {
            "tags": []
          },
          "execution_count": 8
        }
      ]
    },
    {
      "cell_type": "code",
      "source": [
        "# Onde está Wally?\n",
        "pi=3,14159265"
      ],
      "metadata": {
        "id": "EgeBGnFCslhQ"
      },
      "execution_count": null,
      "outputs": []
    },
    {
      "cell_type": "code",
      "source": [
        "round (pi, 3)\n"
      ],
      "metadata": {
        "colab": {
          "base_uri": "https://localhost:8080/"
        },
        "id": "mOotDAdVsslN",
        "outputId": "03526de1-801b-4f72-a719-2887f28e0c67"
      },
      "execution_count": null,
      "outputs": [
        {
          "output_type": "execute_result",
          "data": {
            "text/plain": [
              "3.142"
            ]
          },
          "metadata": {},
          "execution_count": 50
        }
      ]
    },
    {
      "cell_type": "code",
      "metadata": {
        "id": "07MEI9cwugd3"
      },
      "source": [
        "pi = 3.14159265359\n",
        "# É realmente necessário digitar o número novamente?\n",
        "\n",
        "r = 2\n",
        "\n",
        "perimetro = 2 * pi * r\n",
        "print(perimetro)"
      ],
      "execution_count": null,
      "outputs": []
    },
    {
      "cell_type": "markdown",
      "metadata": {
        "id": "qkd9SJKLyg2Y"
      },
      "source": [
        "Em Python as variáveis devem sempre iniciar com uma letra ou um *underscore* ( _ ) e não possuir espaço. Além disso, nomes de variáveis só podem conter caracteres alfanuméricos e *underscores*. Outro ponto importante é que as variáveis em Python são *case-sensitive*, ou seja, a variável `nome` é diferente da variável `Nome`.\n",
        "\n",
        "Calculando as quantidades necessárias sem o uso de variáveis:"
      ]
    },
    {
      "cell_type": "code",
      "source": [
        "# Número de pessoas: 24\n",
        "# Lanches por pessoa: 1.5\n",
        "# Itens\n",
        "#   Pão: 1\n",
        "#   Requeijão:  25g\n",
        "#   Mussarela:  2 fatias\n",
        "#   Pernil desfiado: 100 g\n",
        "#   Tomate seco: 30 g\n",
        "#   Papel alumínio: 40 cm\n",
        "#   Ziplock: 1 unid\n",
        "\n",
        "print('Olá, Chefia!')\n",
        "print('Precisaremos fazer ' + str(24 * 1.5) + ' lanches, certo?')\n",
        "print('Para isso, precisaremos comprar:')\n",
        "print(str(24*1.5) + ' pães')\n",
        "print(str(24 * 1.5 * 25 / 1000) + ' kg de requeijão')\n",
        "print(str(24 * 1.5 * 2) + ' fatias de mussarela')\n",
        "print(str(24 * 1.5 * 100 / 1000) + ' kg de pernil')\n",
        "print(str(24 * 1.5 * 30 / 1000) + ' kg de tomate seco')\n",
        "print(str(24 * 1.5 * 40 / 100) + ' litros de caipirinha')\n",
        "print(str(24 * 1.5 * 2) + ' guardanapos')"
      ],
      "metadata": {
        "colab": {
          "base_uri": "https://localhost:8080/"
        },
        "id": "S_Ol83lljnFh",
        "outputId": "5abc8df3-a68f-4b8c-bed8-b47068265964"
      },
      "execution_count": null,
      "outputs": [
        {
          "output_type": "stream",
          "name": "stdout",
          "text": [
            "Olá, Chefia!\n",
            "Precisaremos fazer 36.0 lanches, certo?\n",
            "Para isso, precisaremos comprar:\n",
            "36.0 pães\n",
            "0.9 kg de requeijão\n",
            "72.0 fatias de mussarela\n",
            "3.6 kg de pernil\n",
            "1.08 kg de tomate seco\n",
            "14.4 litros de caipirinha\n",
            "72.0 guardanapos\n"
          ]
        }
      ]
    },
    {
      "cell_type": "markdown",
      "metadata": {
        "id": "XwYcp8VMqilM"
      },
      "source": [
        "Podemos ver que o código funciona, porém não é facilmente reutilizável. Para melhorar isso podemos fazer uso de variáveis, como mostrado no código abaixo, que é uma modificação do anterior"
      ]
    },
    {
      "cell_type": "code",
      "metadata": {
        "id": "E3VbY2I_sNss",
        "colab": {
          "base_uri": "https://localhost:8080/"
        },
        "outputId": "4275eb3a-be06-4741-f25f-ae05678ec80b"
      },
      "source": [
        "# Número de pessoas: 24\n",
        "# Lanches por pessoa: 1.5\n",
        "# Itens\n",
        "#   Pão: 1\n",
        "#   Requeijão:  25g\n",
        "#   Mussarela:  2 fatias\n",
        "#   Pernil desfiado: 100 g\n",
        "#   Tomate seco: 30 g\n",
        "#   Papel alumínio: 40 cm\n",
        "#   Ziplock: 1 unid\n",
        "\n",
        "pessoas = 24 # Troque 24 por int(input()) ou float(input()) caso precise de um número decimal\n",
        "lanches = pessoas * 1.5\n",
        "\n",
        "print('Olá Chefia!')\n",
        "print('Precisaremos fazer ' + str(lanches) + ' lanches, certo?')\n",
        "print('Para isso, precisaremos comprar:')\n",
        "print(str(lanches) + ' pães')\n",
        "print(str(lanches * 25 / 1000) + ' kg de requeijão')\n",
        "print(str(lanches * 2) + ' fatias de mussarela')\n",
        "print(str(lanches * 100 / 1000) + ' kg de pernil')\n",
        "print(str(lanches * 30 / 1000) + ' kg de tomate seco')\n",
        "print(str(lanches * 40 / 100) + ' litros de caipirinha')\n",
        "print(str(lanches * 2) + ' guardanapos')\n"
      ],
      "execution_count": null,
      "outputs": [
        {
          "output_type": "stream",
          "name": "stdout",
          "text": [
            "Olá Chefia!\n",
            "Precisaremos fazer 36.0 lanches, certo?\n",
            "Para isso, precisaremos comprar:\n",
            "36.0 pães\n",
            "0.9 kg de requeijão\n",
            "72.0 fatias de mussarela\n",
            "3.6 kg de pernil\n",
            "1.08 kg de tomate seco\n",
            "14.4 litros de caipirinha\n",
            "72.0 guardanapos\n"
          ]
        }
      ]
    },
    {
      "cell_type": "markdown",
      "metadata": {
        "id": "SWre9JSYsf0g"
      },
      "source": [
        "Desta maneira, é necessário somente alterar o valor da variável **`convidados`** que o restante dos ingredientes é calculado, diminuindo assim o trabalho de copiar código e as chances de cometer algum erro."
      ]
    }
  ]
}